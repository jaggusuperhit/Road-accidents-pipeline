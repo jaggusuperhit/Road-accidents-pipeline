{
 "cells": [
  {
   "cell_type": "markdown",
   "id": "62d8608f",
   "metadata": {},
   "source": [
    "# Introduction\n",
    "\n",
    "This is a multiclass classification project to classify the severity of road accidents into three categories. This project is based on real-world data, and the dataset is also highly imbalanced. There are three types of injuries in a target variable: minor, severe, and fatal.\n",
    "\n",
    "Road accidents are the major cause of unnatural deaths around the world. All governments work hard to raise awareness about the rules and regulations that must be followed when driving a vehicle on the road in order to reduce fatalities. Thus, it is necessary to have a mechanism that predicts the severity of such accidents and helps in reducing fatalities.\n",
    "\n",
    "# Objective:\n",
    "\n",
    "To learn Pipeline\n",
    "\n",
    "# Problem statement\n",
    "\n",
    "The target feature is “Accident_severity,” which is a multi-class variable. The task is to classify this variable based on the other 31 features step-by-step by going through each data science process and task. Our metric for evaluation will be your “F1 score, confusion matrics, Classification Report\"\n",
    "\n",
    "\n",
    "# Dataset description\n",
    "\n",
    "Time — time of the accident (In 24 hours format)\n",
    "\n",
    "Day_of_week — A day when an accident occurred\n",
    "\n",
    "Age_band_of_driver —The age group of the driver\n",
    "\n",
    "Sex_of_driver — Gender of driver\n",
    "\n",
    "Educational_level — Driver’s highest education level\n",
    "\n",
    "Vehical_driver_relation — What’s the relation of a driver with the vehicle\n",
    "\n",
    "Driving_experience — How many years of driving experience the driver has\n",
    "\n",
    "Type_of_vehicle — What’s the type of vehicle\n",
    "\n",
    "Owner_of_vehicle — Who’s the owner of the vehicle\n",
    "\n",
    "Service_year_of_vehicle — The last service year of the vehicle\n",
    "\n",
    "Defect_of_vehicle — Is there any defect on the vehicle or not?\n",
    "\n",
    "Area_accident_occured — Locality of an accident site\n",
    "\n",
    "Lanes_or_Medians — Are there any lanes or medians at the accident site?\n",
    "\n",
    "Road_allignment — Road alignment with the terrain of the land\n",
    "\n",
    "Types_of_junction — Type of junction at the accident site\n",
    "\n",
    "Road_surface_type — A surface type of road\n",
    "\n",
    "Road_surface_conditions — What was the condition of the road surface?\n",
    "\n",
    "Light_conditions — Lighting conditions at the site\n",
    "\n",
    "Weather_conditions — Weather situation at the site of an accident\n",
    "\n",
    "Type_of_collision — What is the type of collision\n",
    "\n",
    "Number_of_vehicles_involved — Total number of vehicles involved in an accident\n",
    "\n",
    "Number_of_casualties — Total number of casualties in an accident\n",
    "\n",
    "Vehicle_movement — How the vehicle was moving before the accident occurred\n",
    "\n",
    "Casualty_class — A person who got killed during an accident\n",
    "\n",
    "Sex_of_casualty — What the gender of a person who got killed\n",
    "\n",
    "Age_band_of_casualty — Age group of casualty\n",
    "\n",
    "Casualty_severtiy — How severely the casualty was injured\n",
    "\n",
    "Work_of_casualty — What was the work of the casualty\n",
    "\n",
    "Fitness_of_casualty — Fitness level of casualty\n",
    "\n",
    "Pedestrain_movement — Was there any pedestrian movement on the road?\n",
    "\n",
    "Cause_of-accident — What was the cause of an accident?\n",
    "\n",
    "\n",
    "Accident_severity — How severe an accident was? (Target variable)"
   ]
  },
  {
   "cell_type": "markdown",
   "id": "3f4e4455",
   "metadata": {},
   "source": [
    "# Load Dataset"
   ]
  },
  {
   "cell_type": "code",
   "execution_count": null,
   "id": "3293dd42",
   "metadata": {},
   "outputs": [],
   "source": [
    "# importing pandas \n",
    "import pandas as pd \n",
    "\n",
    "# using pandas read_csv function to load the dataset \n",
    "df = pd.read_csv(\"10 pipe dataset.csv\") \n",
    "\n",
    "df.head()"
   ]
  },
  {
   "cell_type": "code",
   "execution_count": null,
   "id": "14bac122",
   "metadata": {},
   "outputs": [],
   "source": [
    "df.shape"
   ]
  },
  {
   "cell_type": "code",
   "execution_count": null,
   "id": "a5cbb262",
   "metadata": {},
   "outputs": [],
   "source": [
    "# print the dataset information\n",
    "df.info()"
   ]
  },
  {
   "cell_type": "code",
   "execution_count": null,
   "id": "08c3c968",
   "metadata": {},
   "outputs": [],
   "source": [
    "# target variable classes counts and bar plot\n",
    "print(df['Accident_severity'].value_counts())\n",
    "df['Accident_severity'].value_counts().plot(kind='bar')"
   ]
  },
  {
   "cell_type": "markdown",
   "id": "d5ef8c96",
   "metadata": {},
   "source": [
    "#  Exploratory data analysis of the dataset"
   ]
  },
  {
   "cell_type": "code",
   "execution_count": null,
   "id": "a69059a4",
   "metadata": {},
   "outputs": [],
   "source": [
    "# Education levels of car drivers\n",
    "df['Educational_level'].value_counts().plot(kind='bar')"
   ]
  },
  {
   "cell_type": "code",
   "execution_count": null,
   "id": "931df2df",
   "metadata": {},
   "outputs": [],
   "source": [
    "# plot the bar plot of road_surface_type and accident severity feature\n",
    "import matplotlib.pyplot as plt\n",
    "import seaborn as sns \n",
    "\n",
    "\n",
    "plt.figure(figsize=(6,5))\n",
    "sns.countplot(x='Road_surface_type', hue='Accident_severity', data=df)\n",
    "plt.xlabel('Rode surafce type')\n",
    "plt.xticks(rotation=60)\n",
    "plt.show"
   ]
  },
  {
   "cell_type": "markdown",
   "id": "8ae671b5",
   "metadata": {},
   "source": [
    "# Data Preparationm\n",
    "\n",
    "We will start pre-processing the dataset by changing the “Time” column datatype to the “datetime” datatype. We will then extract the hour of the day feature to prepare the data for modeling.\n"
   ]
  },
  {
   "cell_type": "code",
   "execution_count": null,
   "id": "38591a22",
   "metadata": {},
   "outputs": [],
   "source": [
    "# convert object type column into datetime datatype column\n",
    "df['Time'] = pd.to_datetime(df['Time'])\n",
    "\n",
    "# Extrating 'Hour_of_Day' feature from the Time column\n",
    "new_df = df.copy()\n",
    "new_df['Hour_of_Day'] = df['Time'].dt.hour\n",
    "new_df.drop('Time',axis=1,inplace=True)\n",
    "new_df.head()"
   ]
  },
  {
   "cell_type": "markdown",
   "id": "fcd1a97e",
   "metadata": {},
   "source": [
    "# Encode Target Column"
   ]
  },
  {
   "cell_type": "code",
   "execution_count": null,
   "id": "864dc01d",
   "metadata": {},
   "outputs": [],
   "source": [
    "# import labelencoder from sklearn.preprocessing\n",
    "from sklearn.preprocessing import LabelEncoder\n",
    "\n",
    "# create labelencoder object\n",
    "lb = LabelEncoder()\n",
    "new_df['Accident_severity'] = lb.fit_transform(new_df['Accident_severity'])\n",
    "\n",
    "new_df.head()"
   ]
  },
  {
   "cell_type": "markdown",
   "id": "102189e0",
   "metadata": {},
   "source": [
    "# Balance Dataset"
   ]
  },
  {
   "cell_type": "code",
   "execution_count": null,
   "id": "7fa6db68",
   "metadata": {},
   "outputs": [],
   "source": [
    "new_df['Accident_severity'].value_counts()"
   ]
  },
  {
   "cell_type": "code",
   "execution_count": null,
   "id": "e8f74381",
   "metadata": {},
   "outputs": [],
   "source": [
    "from imblearn.over_sampling import RandomOverSampler\n",
    "\n",
    "# Define X and y\n",
    "X = new_df.drop(columns=['Accident_severity'])\n",
    "y = new_df['Accident_severity']\n",
    "\n",
    "# Resample the dataset\n",
    "oversampler = RandomOverSampler(random_state=42)\n",
    "X_resampled, y_resampled = oversampler.fit_resample(X, y)\n"
   ]
  },
  {
   "cell_type": "code",
   "execution_count": null,
   "id": "3e0beec9",
   "metadata": {},
   "outputs": [],
   "source": [
    "y_resampled.value_counts(), X_resampled.shape"
   ]
  },
  {
   "cell_type": "markdown",
   "id": "ec53c4fa",
   "metadata": {},
   "source": [
    "# train/test/split"
   ]
  },
  {
   "cell_type": "code",
   "execution_count": null,
   "id": "50cfcd3b",
   "metadata": {},
   "outputs": [],
   "source": [
    "# train/test/split\n",
    "from sklearn.model_selection import train_test_split\n",
    "\n",
    "X_train,X_test,y_train,y_test = train_test_split(X_resampled,\n",
    "                                                 y_resampled,\n",
    "                                                 test_size=0.2,\n",
    "                                                random_state=42)"
   ]
  },
  {
   "cell_type": "markdown",
   "id": "d3d41d33",
   "metadata": {},
   "source": [
    "# Fill Missing Values"
   ]
  },
  {
   "cell_type": "code",
   "execution_count": null,
   "id": "151a61a5",
   "metadata": {},
   "outputs": [],
   "source": [
    "from sklearn.compose import ColumnTransformer\n",
    "from sklearn.impute import SimpleImputer\n",
    "\n",
    "# Define the strategies for each column\n",
    "strategies = {\n",
    "    3: 'most_frequent',   # Educational_level\n",
    "    4: 'most_frequent',   # Vehicle_driver_relation\n",
    "    5: 'most_frequent',   # Driving_experience\n",
    "    6: 'most_frequent',   # Type_of_vehicle\n",
    "    8: 'constant',        # Service_year_of_vehicle\n",
    "    9: 'constant',        # Defect_of_vehicle\n",
    "    10: 'most_frequent',  # Area_accident_occured\n",
    "    11: 'most_frequent',  # Lanes_or_Medians\n",
    "    12: 'most_frequent',  # Road_allignment\n",
    "    13: 'most_frequent',  # Types_of_Junction\n",
    "    14: 'most_frequent',  # Road_surface_type\n",
    "    18: 'most_frequent',  # Type_of_collision\n",
    "    21: 'most_frequent',  # Vehicle_movement\n",
    "    26: 'most_frequent',  # Work_of_casuality\n",
    "    27: 'most_frequent'   # Fitness_of_casuality\n",
    "}\n",
    "\n",
    "# Create a ColumnTransformer for data preprocessing\n",
    "tf1 = ColumnTransformer([\n",
    "    ('impute_educational_level', SimpleImputer(strategy=strategies[3]), [3]),\n",
    "    ('impute_Vehicle_driver_relation', SimpleImputer(strategy=strategies[4]), [4]),\n",
    "    ('impute_Driving_experience', SimpleImputer(strategy=strategies[5]), [5]),\n",
    "    ('impute_Type_of_vehicle', SimpleImputer(strategy=strategies[6]), [6]),\n",
    "    ('impute_Service_year_of_vehicle', SimpleImputer(strategy=strategies[8], fill_value='Unknown'), [8]),\n",
    "    ('impute_Defect_of_vehicle', SimpleImputer(strategy=strategies[9], fill_value='Unknown'), [9]),\n",
    "    ('impute_Area_accident_occured', SimpleImputer(strategy=strategies[10]), [10]),\n",
    "    ('impute_Lanes_or_Medians', SimpleImputer(strategy=strategies[11]), [11]),\n",
    "    ('impute_Road_allignment', SimpleImputer(strategy=strategies[12]), [12]),\n",
    "    ('impute_Types_of_Junction', SimpleImputer(strategy=strategies[13]), [13]),\n",
    "    ('impute_Road_surface_type', SimpleImputer(strategy=strategies[14]), [14]),\n",
    "    ('impute_Type_of_collision', SimpleImputer(strategy=strategies[18]), [18]),\n",
    "    ('impute_Vehicle_movement', SimpleImputer(strategy=strategies[21]), [21]),\n",
    "    ('impute_Work_of_casuality', SimpleImputer(strategy=strategies[26]), [26]),\n",
    "    ('impute_Fitness_of_casuality', SimpleImputer(strategy=strategies[27]), [27])\n",
    "], remainder='passthrough')\n"
   ]
  },
  {
   "cell_type": "markdown",
   "id": "80ff17c9",
   "metadata": {},
   "source": [
    "# Encode Categorical Columns"
   ]
  },
  {
   "cell_type": "code",
   "execution_count": null,
   "id": "91fa56fd",
   "metadata": {},
   "outputs": [],
   "source": [
    "from sklearn.compose import ColumnTransformer\n",
    "from sklearn.preprocessing import OneHotEncoder\n",
    "\n",
    "# Define the object columns indices\n",
    "object_columns_indices = [0, 1, 2, 3, 4, 5, 6, 7, 8, 9, 10, 11, 12, 13, 14, 15, 16, 17, 18,19,20,21,22,23,24,25,26,27,28,29,30]\n",
    "\n",
    "# Create a ColumnTransformer for one-hot encoding only object columns\n",
    "tf2 = ColumnTransformer([\n",
    "    (f'ohe_{col}', OneHotEncoder(sparse=False, handle_unknown='ignore'), [col])\n",
    "    for col in object_columns_indices\n",
    "], remainder='passthrough')\n",
    "\n",
    "# Apply the transformation\n",
    "X_train_encoded = tf2.fit_transform(X_train)\n",
    "X_train_encoded.shape"
   ]
  },
  {
   "cell_type": "markdown",
   "id": "0a0b5516",
   "metadata": {},
   "source": [
    "# Scaling"
   ]
  },
  {
   "cell_type": "code",
   "execution_count": null,
   "id": "c9541623",
   "metadata": {},
   "outputs": [],
   "source": [
    "# # Scaling\n",
    "# from sklearn.preprocessing import MinMaxScaler\n",
    "\n",
    "# tf3 = ColumnTransformer([\n",
    "#     ('scale',MinMaxScaler(),slice(# give proper slicing))\n",
    "# ])"
   ]
  },
  {
   "cell_type": "markdown",
   "id": "d231bd2f",
   "metadata": {},
   "source": [
    "# Feature selection using the ‘Chi2’ Statistic\n",
    "\n",
    "chi2: This is one of the scoring functions available for feature selection in scikit-learn. It calculates the chi-squared statistic between each feature and the target variable (accidents) to determine the relevance of each feature. chi2 is commonly used for feature selection when dealing with categorical target variables."
   ]
  },
  {
   "cell_type": "code",
   "execution_count": null,
   "id": "47e9fb3b",
   "metadata": {},
   "outputs": [],
   "source": [
    "# feature seleciton method using chi2 for categorical output, categorical input\n",
    "from sklearn.feature_selection import SelectKBest, chi2\n",
    "\n",
    "tf4 = SelectKBest(chi2, k=50)"
   ]
  },
  {
   "cell_type": "markdown",
   "id": "4932ccc8",
   "metadata": {},
   "source": [
    "# Model (Random Forest Classifier)"
   ]
  },
  {
   "cell_type": "code",
   "execution_count": null,
   "id": "d65215b0",
   "metadata": {},
   "outputs": [],
   "source": [
    "# import the necessary liabrary\n",
    "from sklearn.ensemble import RandomForestClassifier\n",
    "from sklearn.metrics import confusion_matrix, classification_report, f1_score\n",
    "\n",
    "\n",
    "tf5 = RandomForestClassifier()"
   ]
  },
  {
   "cell_type": "markdown",
   "id": "0a89f563",
   "metadata": {},
   "source": [
    "# Create Pipeline"
   ]
  },
  {
   "cell_type": "code",
   "execution_count": null,
   "id": "48bca067",
   "metadata": {},
   "outputs": [],
   "source": [
    "# Construct the pipeline\n",
    "from sklearn.pipeline import Pipeline\n",
    " \n",
    "pipe = Pipeline([\n",
    "    ('trf1', tf1),\n",
    "    ('trf2', tf2),\n",
    "    ('trf4', tf4),\n",
    "    ('trf5', tf5)\n",
    "])\n",
    "\n",
    "# Train the pipeline\n",
    "pipe.fit(X_train, y_train)"
   ]
  },
  {
   "cell_type": "code",
   "execution_count": null,
   "id": "19c854d6",
   "metadata": {},
   "outputs": [],
   "source": [
    "# Predict\n",
    "y_pred = pipe.predict(X_test)\n",
    "y_pred"
   ]
  },
  {
   "cell_type": "markdown",
   "id": "7809e830",
   "metadata": {},
   "source": [
    "# Explore the pipeline"
   ]
  },
  {
   "cell_type": "code",
   "execution_count": null,
   "id": "6112dc44",
   "metadata": {},
   "outputs": [],
   "source": [
    "# Code here\n",
    "pipe.named_steps"
   ]
  },
  {
   "cell_type": "markdown",
   "id": "d37cb0f0",
   "metadata": {},
   "source": [
    "# accuracy Score"
   ]
  },
  {
   "cell_type": "code",
   "execution_count": null,
   "id": "46302d8b",
   "metadata": {},
   "outputs": [],
   "source": [
    "from sklearn.metrics import accuracy_score\n",
    "accuracy_score(y_test,y_pred)"
   ]
  },
  {
   "cell_type": "markdown",
   "id": "13211a27",
   "metadata": {},
   "source": [
    "# classificatoin report"
   ]
  },
  {
   "cell_type": "code",
   "execution_count": null,
   "id": "45a21758",
   "metadata": {},
   "outputs": [],
   "source": [
    "from sklearn.metrics import classification_report\n",
    "print(classification_report(y_test,y_pred))"
   ]
  },
  {
   "cell_type": "markdown",
   "id": "dedb2b35",
   "metadata": {},
   "source": [
    "# confusion matrix"
   ]
  },
  {
   "cell_type": "code",
   "execution_count": null,
   "id": "963d2650",
   "metadata": {},
   "outputs": [],
   "source": [
    "from sklearn.metrics import confusion_matrix\n",
    "confusion_matrix(y_test,y_pred)"
   ]
  },
  {
   "cell_type": "markdown",
   "id": "9c9cb65d",
   "metadata": {},
   "source": [
    "# Save pipe"
   ]
  },
  {
   "cell_type": "code",
   "execution_count": null,
   "id": "fd3efc9b",
   "metadata": {},
   "outputs": [],
   "source": [
    "import pickle \n",
    "pickle.dump(pipe,open(\"10 pipe.pkl\",'wb'))"
   ]
  },
  {
   "cell_type": "markdown",
   "id": "457cf85f",
   "metadata": {},
   "source": [
    "# Use Pipe For Website (New user inputs)\n",
    "\n",
    "# prediction System"
   ]
  },
  {
   "cell_type": "code",
   "execution_count": null,
   "id": "726f96e4",
   "metadata": {},
   "outputs": [],
   "source": [
    "pipe = pickle.load(open(\"10 pipe.pkl\",'rb'))"
   ]
  },
  {
   "cell_type": "code",
   "execution_count": null,
   "id": "d74407f3",
   "metadata": {},
   "outputs": [],
   "source": [
    "import numpy as np\n",
    "\n",
    "# record from X_test 10 row\n",
    "print(\"Prediction :\",pipe.predict(np.array(['Thursday', '31-50', 'Male', 'Junior high school', 'Owner', 'Unknown', 'Long lorry', 'Owner', \n",
    "                       'Unknown', 'Unknown', 'Other', 'Two-way (divided with solid lines road marking)',\n",
    "                       'Tangent road with flat terrain','Unknown', 'Unknown', 'Dry', 'Daylight', 'Normal', \n",
    "                       'Collision with animals', 2, 1, 'Going straight', 'Driver or rider','Male', '18-30', 3, 'Driver',\n",
    "                       'Normal', 'Not a Pedestrian', 'Changing lane to the left', 12,],dtype=object).reshape(1,-1)))\n",
    "print(\"Actual :\",y_test.iloc[10])"
   ]
  },
  {
   "cell_type": "code",
   "execution_count": null,
   "id": "3a51a8d1",
   "metadata": {},
   "outputs": [],
   "source": [
    "def pred(Day_of_week, Age_band_of_driver, Sex_of_driver, Educational_level, Vehicle_driver_relation,\n",
    "         Driving_experience, Type_of_vehicle, Owner_of_vehicle, Service_year_of_vehicle,\n",
    "         Defect_of_vehicle, Area_accident_occured, Lanes_or_Medians, Road_allignment,\n",
    "         Types_of_Junction, Road_surface_type, Road_surface_conditions, Light_conditions,\n",
    "         Weather_conditions, Type_of_collision, Number_of_vehicles_involved,\n",
    "         Number_of_casualties, Vehicle_movement, Casualty_class, Sex_of_casualty,\n",
    "         Age_band_of_casualty, Casualty_severity, Work_of_casuality, Fitness_of_casuality,\n",
    "         Pedestrian_movement, Cause_of_accident, Hour_of_Day):\n",
    "    \n",
    "    # Your prediction code here\n",
    "    features = np.array([[Day_of_week, Age_band_of_driver, Sex_of_driver, Educational_level, Vehicle_driver_relation,\n",
    "         Driving_experience, Type_of_vehicle, Owner_of_vehicle, Service_year_of_vehicle,\n",
    "         Defect_of_vehicle, Area_accident_occured, Lanes_or_Medians, Road_allignment,\n",
    "         Types_of_Junction, Road_surface_type, Road_surface_conditions, Light_conditions,\n",
    "         Weather_conditions, Type_of_collision, Number_of_vehicles_involved,\n",
    "         Number_of_casualties, Vehicle_movement, Casualty_class, Sex_of_casualty,\n",
    "         Age_band_of_casualty, Casualty_severity, Work_of_casuality, Fitness_of_casuality,\n",
    "         Pedestrian_movement, Cause_of_accident, Hour_of_Day]])\n",
    "    \n",
    "    results = pipe.predict(features)\n",
    "    return results\n"
   ]
  },
  {
   "cell_type": "code",
   "execution_count": null,
   "id": "aa7e5e28",
   "metadata": {},
   "outputs": [],
   "source": [
    "predicted_class = pred(Day_of_week=\"Thursday\", \n",
    "                                Age_band_of_driver='31-50',\n",
    "                                Sex_of_driver='Male',\n",
    "                                Educational_level='Junior high school',\n",
    "                                Vehicle_driver_relation='Owner',\n",
    "                                Driving_experience=None,\n",
    "                                Type_of_vehicle='Long lorry',\n",
    "                                Owner_of_vehicle='Owner',\n",
    "                                Service_year_of_vehicle='Unknown',\n",
    "                                Defect_of_vehicle=None,\n",
    "                                Area_accident_occured='Other',\n",
    "                                Lanes_or_Medians='Two-way (divided with solid lines road marking)',\n",
    "                                Road_allignment='Tangent road with flat terrain',\n",
    "                                Types_of_Junction=None,\n",
    "                                Road_surface_type=None,\n",
    "                                Road_surface_conditions='Dry',\n",
    "                                Light_conditions='Daylight',\n",
    "                                Weather_conditions='Normal',\n",
    "                                Type_of_collision='Collision with animals',\n",
    "                                Number_of_vehicles_involved=2,\n",
    "                                Number_of_casualties=1,\n",
    "                                Vehicle_movement='Going straight',\n",
    "                                Casualty_class='Driver or rider',\n",
    "                                Sex_of_casualty='Male',\n",
    "                                Age_band_of_casualty='18-30',\n",
    "                                Casualty_severity=3,\n",
    "                                Work_of_casuality='Driver',\n",
    "                                Fitness_of_casuality='Normal',\n",
    "                                Pedestrian_movement='Not a Pedestrian',\n",
    "                                Cause_of_accident='Changing lane to the left',\n",
    "                                Hour_of_Day=12)\n",
    "\n",
    "if predicted_class[0] == 2:\n",
    "    print(\"Slight Injury.....\")\n",
    "elif predicted_class[0] == 1:\n",
    "    print(\"Serious Injury\")\n",
    "else:\n",
    "    print(\"Fatal Injury\")"
   ]
  },
  {
   "cell_type": "code",
   "execution_count": null,
   "id": "3647f02e",
   "metadata": {},
   "outputs": [],
   "source": [
    "# test 2\n",
    "predicted_class = pred(Day_of_week=\"Friday\", \n",
    "                       Age_band_of_driver='31-50',\n",
    "                       Sex_of_driver='Male',\n",
    "                       Educational_level='Elementary school',\n",
    "                       Vehicle_driver_relation='Employee',\n",
    "                       Driving_experience='1-2yr',\n",
    "                       Type_of_vehicle='Lorry (41?100Q)',\n",
    "                       Owner_of_vehicle='Owner',\n",
    "                       Service_year_of_vehicle=None,\n",
    "                       Defect_of_vehicle='No defect',\n",
    "                       Area_accident_occured='Office areas',\n",
    "                       Lanes_or_Medians='Two-way (divided with broken lines road marking)',\n",
    "                       Road_allignment='Tangent road with flat terrain',\n",
    "                       Types_of_Junction='Y Shape',\n",
    "                       Road_surface_type='Asphalt roads',\n",
    "                       Road_surface_conditions='Dry',\n",
    "                       Light_conditions='Daylight',\n",
    "                       Weather_conditions='Normal',\n",
    "                       Type_of_collision='Vehicle with vehicle collision',\n",
    "                       Number_of_vehicles_involved=2,\n",
    "                       Number_of_casualties=2,\n",
    "                       Vehicle_movement='Going straight',\n",
    "                       Casualty_class='na',\n",
    "                       Sex_of_casualty='na',\n",
    "                       Age_band_of_casualty='na',\n",
    "                       Casualty_severity='na',\n",
    "                       Work_of_casuality='Driver',\n",
    "                       Fitness_of_casuality='Normal',\n",
    "                       Pedestrian_movement='Not a Pedestrian',\n",
    "                       Cause_of_accident='Changing lane to the left',\n",
    "                       Hour_of_Day=1)\n",
    "\n",
    "if predicted_class[0] == 2:\n",
    "    print(\"Slight Injury\")\n",
    "elif predicted_class[0] == 1:\n",
    "    print(\"Serious Injury\")\n",
    "else:\n",
    "    print(\"Fatal Injury\")\n"
   ]
  },
  {
   "cell_type": "code",
   "execution_count": null,
   "id": "9bf9f454",
   "metadata": {},
   "outputs": [],
   "source": []
  }
 ],
 "metadata": {
  "kernelspec": {
   "display_name": "myenv",
   "language": "python",
   "name": "python3"
  },
  "language_info": {
   "codemirror_mode": {
    "name": "ipython",
    "version": 3
   },
   "file_extension": ".py",
   "mimetype": "text/x-python",
   "name": "python",
   "nbconvert_exporter": "python",
   "pygments_lexer": "ipython3",
   "version": "3.11.9"
  }
 },
 "nbformat": 4,
 "nbformat_minor": 5
}
